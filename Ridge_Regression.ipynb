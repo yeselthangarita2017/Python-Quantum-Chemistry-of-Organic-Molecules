{
  "nbformat": 4,
  "nbformat_minor": 0,
  "metadata": {
    "colab": {
      "provenance": [],
      "toc_visible": true
    },
    "kernelspec": {
      "name": "python3",
      "display_name": "Python 3"
    }
  },
  "cells": [
    {
      "cell_type": "markdown",
      "source": [
        "# Ridge Linear Regression"
      ],
      "metadata": {
        "id": "ZxJIvrk66PJR"
      }
    },
    {
      "cell_type": "markdown",
      "metadata": {
        "id": "s6CrU9R-zFkd"
      },
      "source": [
        "# Libraries"
      ]
    },
    {
      "cell_type": "code",
      "metadata": {
        "id": "FbBNSlHp7M7v"
      },
      "source": [
        "#Basic scientific math, data shape, and data file libraries for data pre-processing\n",
        "import io \n",
        "import numpy as np \n",
        "import pandas as pd\n",
        "\n",
        "#Plotting \n",
        "from matplotlib import pyplot as plt\n",
        "\n",
        "from sklearn.preprocessing import StandardScaler \n",
        "from sklearn.metrics import make_scorer, mean_squared_error\n",
        "from sklearn.linear_model import Ridge\n",
        "from sklearn.model_selection import KFold, GridSearchCV"
      ],
      "execution_count": null,
      "outputs": []
    },
    {
      "cell_type": "markdown",
      "metadata": {
        "id": "OsNmjq_I7oSg"
      },
      "source": [
        "# Loading "
      ]
    },
    {
      "cell_type": "markdown",
      "metadata": {
        "id": "J8EzZOZSbx_m"
      },
      "source": [
        "First, we will mount the drive & load the data"
      ]
    },
    {
      "cell_type": "code",
      "metadata": {
        "id": "7QJbCPKv7qlz",
        "colab": {
          "base_uri": "https://localhost:8080/"
        },
        "outputId": "6d940ff6-0311-4409-eef9-f51a4826e916"
      },
      "source": [
        "from google.colab import drive\n",
        "drive.mount('/content/gdrive')"
      ],
      "execution_count": null,
      "outputs": [
        {
          "output_type": "stream",
          "name": "stdout",
          "text": [
            "Mounted at /content/gdrive\n"
          ]
        }
      ]
    },
    {
      "cell_type": "code",
      "metadata": {
        "id": "D2y4ybjw7elV",
        "colab": {
          "base_uri": "https://localhost:8080/",
          "height": 424
        },
        "outputId": "4c509511-974e-4e94-eb5b-a6a44ab24c6d"
      },
      "source": [
        "robo_bohr = pd.read_csv('/content/gdrive/My Drive/DS/molecules/roboBohr.csv', index_col = 0)\n",
        "robo_bohr "
      ],
      "execution_count": null,
      "outputs": [
        {
          "output_type": "execute_result",
          "data": {
            "text/plain": [
              "               0          1          2          3          4          5  \\\n",
              "0      73.516695  17.817765  12.469551  12.458130  12.454607  12.447345   \n",
              "1      73.516695  20.649126  18.527789  17.891535  17.887995  17.871731   \n",
              "2      73.516695  17.830377  12.512263  12.404775  12.394493  12.391564   \n",
              "3      73.516695  17.875810  17.871259  17.862402  17.850920  17.850440   \n",
              "4      73.516695  17.883818  17.868256  17.864221  17.818540  12.508657   \n",
              "...          ...        ...        ...        ...        ...        ...   \n",
              "16268  73.516695  20.753166  18.624076  17.872009  17.851690  17.851254   \n",
              "16269  73.516695  20.724740  18.579933  17.741621  14.716676  13.697829   \n",
              "16270  53.358707  20.820797  19.150234  19.148721  15.135514  15.123685   \n",
              "16271  53.358707  15.707759  15.707644  13.653838  13.653570  13.653314   \n",
              "16272  53.358707  15.708752  15.708094  13.653893  13.653176  13.653120   \n",
              "\n",
              "               6          7          8          9  ...  1267  1268  1269  \\\n",
              "0      12.433065  12.426926  12.387474  12.365984  ...   0.0   0.0   0.5   \n",
              "1      17.852586  17.729842  15.864270  15.227643  ...   0.0   0.0   0.0   \n",
              "2      12.324461  12.238106  10.423249   8.698826  ...   0.0   0.0   0.0   \n",
              "3      12.558105  12.557645  12.517583  12.444141  ...   0.0   0.0   0.0   \n",
              "4      12.490519  12.450098  10.597068  10.595914  ...   0.0   0.0   0.0   \n",
              "...          ...        ...        ...        ...  ...   ...   ...   ...   \n",
              "16268  17.742176  14.655754  12.706683  12.557785  ...   0.0   0.0   0.0   \n",
              "16269  13.697558  13.653512  13.652942  13.652387  ...   0.0   0.0   0.0   \n",
              "16270  12.942704  12.938162  12.488633  12.488061  ...   0.0   0.0   0.0   \n",
              "16271  13.652591  13.652585  13.652550  12.743890  ...   0.0   0.0   0.0   \n",
              "16272  13.652930  13.652528  13.652322  12.743688  ...   0.0   0.0   0.0   \n",
              "\n",
              "       1270  1271  1272  1273  1274  pubchem_id        Eat  \n",
              "0       0.0   0.0   0.0   0.0   0.0       25004 -19.013763  \n",
              "1       0.0   0.0   0.0   0.0   0.0       25005 -10.161019  \n",
              "2       0.0   0.0   0.0   0.0   0.0       25006  -9.376619  \n",
              "3       0.0   0.0   0.0   0.0   0.0       25009 -13.776438  \n",
              "4       0.0   0.0   0.0   0.0   0.0       25011  -8.537140  \n",
              "...     ...   ...   ...   ...   ...         ...        ...  \n",
              "16268   0.0   0.0   0.0   0.0   0.0       74976  -8.876123  \n",
              "16269   0.0   0.0   0.0   0.0   0.0       74977 -13.105268  \n",
              "16270   0.0   0.0   0.0   0.0   0.0       74978 -16.801464  \n",
              "16271   0.0   0.0   0.0   0.0   0.0       74979 -13.335088  \n",
              "16272   0.0   0.0   0.0   0.0   0.0       74980 -13.336696  \n",
              "\n",
              "[16242 rows x 1277 columns]"
            ],
            "text/html": [
              "\n",
              "  <div id=\"df-0ac81d80-4fa9-484c-be50-0a00cf5ae885\">\n",
              "    <div class=\"colab-df-container\">\n",
              "      <div>\n",
              "<style scoped>\n",
              "    .dataframe tbody tr th:only-of-type {\n",
              "        vertical-align: middle;\n",
              "    }\n",
              "\n",
              "    .dataframe tbody tr th {\n",
              "        vertical-align: top;\n",
              "    }\n",
              "\n",
              "    .dataframe thead th {\n",
              "        text-align: right;\n",
              "    }\n",
              "</style>\n",
              "<table border=\"1\" class=\"dataframe\">\n",
              "  <thead>\n",
              "    <tr style=\"text-align: right;\">\n",
              "      <th></th>\n",
              "      <th>0</th>\n",
              "      <th>1</th>\n",
              "      <th>2</th>\n",
              "      <th>3</th>\n",
              "      <th>4</th>\n",
              "      <th>5</th>\n",
              "      <th>6</th>\n",
              "      <th>7</th>\n",
              "      <th>8</th>\n",
              "      <th>9</th>\n",
              "      <th>...</th>\n",
              "      <th>1267</th>\n",
              "      <th>1268</th>\n",
              "      <th>1269</th>\n",
              "      <th>1270</th>\n",
              "      <th>1271</th>\n",
              "      <th>1272</th>\n",
              "      <th>1273</th>\n",
              "      <th>1274</th>\n",
              "      <th>pubchem_id</th>\n",
              "      <th>Eat</th>\n",
              "    </tr>\n",
              "  </thead>\n",
              "  <tbody>\n",
              "    <tr>\n",
              "      <th>0</th>\n",
              "      <td>73.516695</td>\n",
              "      <td>17.817765</td>\n",
              "      <td>12.469551</td>\n",
              "      <td>12.458130</td>\n",
              "      <td>12.454607</td>\n",
              "      <td>12.447345</td>\n",
              "      <td>12.433065</td>\n",
              "      <td>12.426926</td>\n",
              "      <td>12.387474</td>\n",
              "      <td>12.365984</td>\n",
              "      <td>...</td>\n",
              "      <td>0.0</td>\n",
              "      <td>0.0</td>\n",
              "      <td>0.5</td>\n",
              "      <td>0.0</td>\n",
              "      <td>0.0</td>\n",
              "      <td>0.0</td>\n",
              "      <td>0.0</td>\n",
              "      <td>0.0</td>\n",
              "      <td>25004</td>\n",
              "      <td>-19.013763</td>\n",
              "    </tr>\n",
              "    <tr>\n",
              "      <th>1</th>\n",
              "      <td>73.516695</td>\n",
              "      <td>20.649126</td>\n",
              "      <td>18.527789</td>\n",
              "      <td>17.891535</td>\n",
              "      <td>17.887995</td>\n",
              "      <td>17.871731</td>\n",
              "      <td>17.852586</td>\n",
              "      <td>17.729842</td>\n",
              "      <td>15.864270</td>\n",
              "      <td>15.227643</td>\n",
              "      <td>...</td>\n",
              "      <td>0.0</td>\n",
              "      <td>0.0</td>\n",
              "      <td>0.0</td>\n",
              "      <td>0.0</td>\n",
              "      <td>0.0</td>\n",
              "      <td>0.0</td>\n",
              "      <td>0.0</td>\n",
              "      <td>0.0</td>\n",
              "      <td>25005</td>\n",
              "      <td>-10.161019</td>\n",
              "    </tr>\n",
              "    <tr>\n",
              "      <th>2</th>\n",
              "      <td>73.516695</td>\n",
              "      <td>17.830377</td>\n",
              "      <td>12.512263</td>\n",
              "      <td>12.404775</td>\n",
              "      <td>12.394493</td>\n",
              "      <td>12.391564</td>\n",
              "      <td>12.324461</td>\n",
              "      <td>12.238106</td>\n",
              "      <td>10.423249</td>\n",
              "      <td>8.698826</td>\n",
              "      <td>...</td>\n",
              "      <td>0.0</td>\n",
              "      <td>0.0</td>\n",
              "      <td>0.0</td>\n",
              "      <td>0.0</td>\n",
              "      <td>0.0</td>\n",
              "      <td>0.0</td>\n",
              "      <td>0.0</td>\n",
              "      <td>0.0</td>\n",
              "      <td>25006</td>\n",
              "      <td>-9.376619</td>\n",
              "    </tr>\n",
              "    <tr>\n",
              "      <th>3</th>\n",
              "      <td>73.516695</td>\n",
              "      <td>17.875810</td>\n",
              "      <td>17.871259</td>\n",
              "      <td>17.862402</td>\n",
              "      <td>17.850920</td>\n",
              "      <td>17.850440</td>\n",
              "      <td>12.558105</td>\n",
              "      <td>12.557645</td>\n",
              "      <td>12.517583</td>\n",
              "      <td>12.444141</td>\n",
              "      <td>...</td>\n",
              "      <td>0.0</td>\n",
              "      <td>0.0</td>\n",
              "      <td>0.0</td>\n",
              "      <td>0.0</td>\n",
              "      <td>0.0</td>\n",
              "      <td>0.0</td>\n",
              "      <td>0.0</td>\n",
              "      <td>0.0</td>\n",
              "      <td>25009</td>\n",
              "      <td>-13.776438</td>\n",
              "    </tr>\n",
              "    <tr>\n",
              "      <th>4</th>\n",
              "      <td>73.516695</td>\n",
              "      <td>17.883818</td>\n",
              "      <td>17.868256</td>\n",
              "      <td>17.864221</td>\n",
              "      <td>17.818540</td>\n",
              "      <td>12.508657</td>\n",
              "      <td>12.490519</td>\n",
              "      <td>12.450098</td>\n",
              "      <td>10.597068</td>\n",
              "      <td>10.595914</td>\n",
              "      <td>...</td>\n",
              "      <td>0.0</td>\n",
              "      <td>0.0</td>\n",
              "      <td>0.0</td>\n",
              "      <td>0.0</td>\n",
              "      <td>0.0</td>\n",
              "      <td>0.0</td>\n",
              "      <td>0.0</td>\n",
              "      <td>0.0</td>\n",
              "      <td>25011</td>\n",
              "      <td>-8.537140</td>\n",
              "    </tr>\n",
              "    <tr>\n",
              "      <th>...</th>\n",
              "      <td>...</td>\n",
              "      <td>...</td>\n",
              "      <td>...</td>\n",
              "      <td>...</td>\n",
              "      <td>...</td>\n",
              "      <td>...</td>\n",
              "      <td>...</td>\n",
              "      <td>...</td>\n",
              "      <td>...</td>\n",
              "      <td>...</td>\n",
              "      <td>...</td>\n",
              "      <td>...</td>\n",
              "      <td>...</td>\n",
              "      <td>...</td>\n",
              "      <td>...</td>\n",
              "      <td>...</td>\n",
              "      <td>...</td>\n",
              "      <td>...</td>\n",
              "      <td>...</td>\n",
              "      <td>...</td>\n",
              "      <td>...</td>\n",
              "    </tr>\n",
              "    <tr>\n",
              "      <th>16268</th>\n",
              "      <td>73.516695</td>\n",
              "      <td>20.753166</td>\n",
              "      <td>18.624076</td>\n",
              "      <td>17.872009</td>\n",
              "      <td>17.851690</td>\n",
              "      <td>17.851254</td>\n",
              "      <td>17.742176</td>\n",
              "      <td>14.655754</td>\n",
              "      <td>12.706683</td>\n",
              "      <td>12.557785</td>\n",
              "      <td>...</td>\n",
              "      <td>0.0</td>\n",
              "      <td>0.0</td>\n",
              "      <td>0.0</td>\n",
              "      <td>0.0</td>\n",
              "      <td>0.0</td>\n",
              "      <td>0.0</td>\n",
              "      <td>0.0</td>\n",
              "      <td>0.0</td>\n",
              "      <td>74976</td>\n",
              "      <td>-8.876123</td>\n",
              "    </tr>\n",
              "    <tr>\n",
              "      <th>16269</th>\n",
              "      <td>73.516695</td>\n",
              "      <td>20.724740</td>\n",
              "      <td>18.579933</td>\n",
              "      <td>17.741621</td>\n",
              "      <td>14.716676</td>\n",
              "      <td>13.697829</td>\n",
              "      <td>13.697558</td>\n",
              "      <td>13.653512</td>\n",
              "      <td>13.652942</td>\n",
              "      <td>13.652387</td>\n",
              "      <td>...</td>\n",
              "      <td>0.0</td>\n",
              "      <td>0.0</td>\n",
              "      <td>0.0</td>\n",
              "      <td>0.0</td>\n",
              "      <td>0.0</td>\n",
              "      <td>0.0</td>\n",
              "      <td>0.0</td>\n",
              "      <td>0.0</td>\n",
              "      <td>74977</td>\n",
              "      <td>-13.105268</td>\n",
              "    </tr>\n",
              "    <tr>\n",
              "      <th>16270</th>\n",
              "      <td>53.358707</td>\n",
              "      <td>20.820797</td>\n",
              "      <td>19.150234</td>\n",
              "      <td>19.148721</td>\n",
              "      <td>15.135514</td>\n",
              "      <td>15.123685</td>\n",
              "      <td>12.942704</td>\n",
              "      <td>12.938162</td>\n",
              "      <td>12.488633</td>\n",
              "      <td>12.488061</td>\n",
              "      <td>...</td>\n",
              "      <td>0.0</td>\n",
              "      <td>0.0</td>\n",
              "      <td>0.0</td>\n",
              "      <td>0.0</td>\n",
              "      <td>0.0</td>\n",
              "      <td>0.0</td>\n",
              "      <td>0.0</td>\n",
              "      <td>0.0</td>\n",
              "      <td>74978</td>\n",
              "      <td>-16.801464</td>\n",
              "    </tr>\n",
              "    <tr>\n",
              "      <th>16271</th>\n",
              "      <td>53.358707</td>\n",
              "      <td>15.707759</td>\n",
              "      <td>15.707644</td>\n",
              "      <td>13.653838</td>\n",
              "      <td>13.653570</td>\n",
              "      <td>13.653314</td>\n",
              "      <td>13.652591</td>\n",
              "      <td>13.652585</td>\n",
              "      <td>13.652550</td>\n",
              "      <td>12.743890</td>\n",
              "      <td>...</td>\n",
              "      <td>0.0</td>\n",
              "      <td>0.0</td>\n",
              "      <td>0.0</td>\n",
              "      <td>0.0</td>\n",
              "      <td>0.0</td>\n",
              "      <td>0.0</td>\n",
              "      <td>0.0</td>\n",
              "      <td>0.0</td>\n",
              "      <td>74979</td>\n",
              "      <td>-13.335088</td>\n",
              "    </tr>\n",
              "    <tr>\n",
              "      <th>16272</th>\n",
              "      <td>53.358707</td>\n",
              "      <td>15.708752</td>\n",
              "      <td>15.708094</td>\n",
              "      <td>13.653893</td>\n",
              "      <td>13.653176</td>\n",
              "      <td>13.653120</td>\n",
              "      <td>13.652930</td>\n",
              "      <td>13.652528</td>\n",
              "      <td>13.652322</td>\n",
              "      <td>12.743688</td>\n",
              "      <td>...</td>\n",
              "      <td>0.0</td>\n",
              "      <td>0.0</td>\n",
              "      <td>0.0</td>\n",
              "      <td>0.0</td>\n",
              "      <td>0.0</td>\n",
              "      <td>0.0</td>\n",
              "      <td>0.0</td>\n",
              "      <td>0.0</td>\n",
              "      <td>74980</td>\n",
              "      <td>-13.336696</td>\n",
              "    </tr>\n",
              "  </tbody>\n",
              "</table>\n",
              "<p>16242 rows × 1277 columns</p>\n",
              "</div>\n",
              "      <button class=\"colab-df-convert\" onclick=\"convertToInteractive('df-0ac81d80-4fa9-484c-be50-0a00cf5ae885')\"\n",
              "              title=\"Convert this dataframe to an interactive table.\"\n",
              "              style=\"display:none;\">\n",
              "        \n",
              "  <svg xmlns=\"http://www.w3.org/2000/svg\" height=\"24px\"viewBox=\"0 0 24 24\"\n",
              "       width=\"24px\">\n",
              "    <path d=\"M0 0h24v24H0V0z\" fill=\"none\"/>\n",
              "    <path d=\"M18.56 5.44l.94 2.06.94-2.06 2.06-.94-2.06-.94-.94-2.06-.94 2.06-2.06.94zm-11 1L8.5 8.5l.94-2.06 2.06-.94-2.06-.94L8.5 2.5l-.94 2.06-2.06.94zm10 10l.94 2.06.94-2.06 2.06-.94-2.06-.94-.94-2.06-.94 2.06-2.06.94z\"/><path d=\"M17.41 7.96l-1.37-1.37c-.4-.4-.92-.59-1.43-.59-.52 0-1.04.2-1.43.59L10.3 9.45l-7.72 7.72c-.78.78-.78 2.05 0 2.83L4 21.41c.39.39.9.59 1.41.59.51 0 1.02-.2 1.41-.59l7.78-7.78 2.81-2.81c.8-.78.8-2.07 0-2.86zM5.41 20L4 18.59l7.72-7.72 1.47 1.35L5.41 20z\"/>\n",
              "  </svg>\n",
              "      </button>\n",
              "      \n",
              "  <style>\n",
              "    .colab-df-container {\n",
              "      display:flex;\n",
              "      flex-wrap:wrap;\n",
              "      gap: 12px;\n",
              "    }\n",
              "\n",
              "    .colab-df-convert {\n",
              "      background-color: #E8F0FE;\n",
              "      border: none;\n",
              "      border-radius: 50%;\n",
              "      cursor: pointer;\n",
              "      display: none;\n",
              "      fill: #1967D2;\n",
              "      height: 32px;\n",
              "      padding: 0 0 0 0;\n",
              "      width: 32px;\n",
              "    }\n",
              "\n",
              "    .colab-df-convert:hover {\n",
              "      background-color: #E2EBFA;\n",
              "      box-shadow: 0px 1px 2px rgba(60, 64, 67, 0.3), 0px 1px 3px 1px rgba(60, 64, 67, 0.15);\n",
              "      fill: #174EA6;\n",
              "    }\n",
              "\n",
              "    [theme=dark] .colab-df-convert {\n",
              "      background-color: #3B4455;\n",
              "      fill: #D2E3FC;\n",
              "    }\n",
              "\n",
              "    [theme=dark] .colab-df-convert:hover {\n",
              "      background-color: #434B5C;\n",
              "      box-shadow: 0px 1px 3px 1px rgba(0, 0, 0, 0.15);\n",
              "      filter: drop-shadow(0px 1px 2px rgba(0, 0, 0, 0.3));\n",
              "      fill: #FFFFFF;\n",
              "    }\n",
              "  </style>\n",
              "\n",
              "      <script>\n",
              "        const buttonEl =\n",
              "          document.querySelector('#df-0ac81d80-4fa9-484c-be50-0a00cf5ae885 button.colab-df-convert');\n",
              "        buttonEl.style.display =\n",
              "          google.colab.kernel.accessAllowed ? 'block' : 'none';\n",
              "\n",
              "        async function convertToInteractive(key) {\n",
              "          const element = document.querySelector('#df-0ac81d80-4fa9-484c-be50-0a00cf5ae885');\n",
              "          const dataTable =\n",
              "            await google.colab.kernel.invokeFunction('convertToInteractive',\n",
              "                                                     [key], {});\n",
              "          if (!dataTable) return;\n",
              "\n",
              "          const docLinkHtml = 'Like what you see? Visit the ' +\n",
              "            '<a target=\"_blank\" href=https://colab.research.google.com/notebooks/data_table.ipynb>data table notebook</a>'\n",
              "            + ' to learn more about interactive tables.';\n",
              "          element.innerHTML = '';\n",
              "          dataTable['output_type'] = 'display_data';\n",
              "          await google.colab.output.renderOutput(dataTable, element);\n",
              "          const docLink = document.createElement('div');\n",
              "          docLink.innerHTML = docLinkHtml;\n",
              "          element.appendChild(docLink);\n",
              "        }\n",
              "      </script>\n",
              "    </div>\n",
              "  </div>\n",
              "  "
            ]
          },
          "metadata": {},
          "execution_count": 4
        }
      ]
    },
    {
      "cell_type": "markdown",
      "metadata": {
        "id": "LThR2RQl7x5w"
      },
      "source": [
        "# Pre-processing"
      ]
    },
    {
      "cell_type": "markdown",
      "metadata": {
        "id": "Mqzw2iyWcBq8"
      },
      "source": [
        "We define the design matrix containing all the features except the 'Eat' column, which stores energy of atomization per molecule. We assign 'Eat' to y because this is the target objects with the labels we want our model to use for predictions. Then, X is standardize for consistency accross values on the matrix and y is centralized."
      ]
    },
    {
      "cell_type": "code",
      "metadata": {
        "id": "eltfW1LP8Seq"
      },
      "source": [
        "X = robo_bohr.drop(['Eat'], axis = 1)\n",
        "y = robo_bohr['Eat']"
      ],
      "execution_count": null,
      "outputs": []
    },
    {
      "cell_type": "code",
      "metadata": {
        "id": "45DIIiMS8S9O"
      },
      "source": [
        "standardize = StandardScaler()\n",
        "y_center = StandardScaler(with_std = False)"
      ],
      "execution_count": null,
      "outputs": []
    },
    {
      "cell_type": "code",
      "metadata": {
        "id": "xkP0LWMu8VJ2"
      },
      "source": [
        "X= standardize.fit_transform(X)\n",
        "X = pd.DataFrame(X)"
      ],
      "execution_count": null,
      "outputs": []
    },
    {
      "cell_type": "markdown",
      "metadata": {
        "id": "OS9gxeWPdfNo"
      },
      "source": [
        "Review that values were standardize on X"
      ]
    },
    {
      "cell_type": "code",
      "metadata": {
        "id": "GasTb4MU8XdJ",
        "colab": {
          "base_uri": "https://localhost:8080/",
          "height": 424
        },
        "outputId": "aa93ec0b-e3ef-4842-db7e-d69cca9e170d"
      },
      "source": [
        "X"
      ],
      "execution_count": null,
      "outputs": [
        {
          "output_type": "execute_result",
          "data": {
            "text/plain": [
              "           0         1         2         3         4         5         6     \\\n",
              "0     -0.372795 -0.534448 -1.043596 -0.936145 -0.855299 -0.806195 -0.695008   \n",
              "1     -0.372795 -0.207476 -0.253760 -0.098378  0.130369  0.491641  0.699988   \n",
              "2     -0.372795 -0.532992 -1.038028 -0.944372 -0.866204 -0.819541 -0.722963   \n",
              "3     -0.372795 -0.527745 -0.339355 -0.102870  0.123643  0.486547 -0.662823   \n",
              "4     -0.372795 -0.526820 -0.339746 -0.102590  0.117769 -0.791526 -0.680220   \n",
              "...         ...       ...       ...       ...       ...       ...       ...   \n",
              "16237 -0.372795 -0.195461 -0.241207 -0.101389  0.123783  0.486742  0.671568   \n",
              "16238 -0.372795 -0.198744 -0.246962 -0.121493 -0.444938 -0.507005 -0.369525   \n",
              "16239 -0.550877 -0.187651 -0.172610  0.095465 -0.368957 -0.165855 -0.563826   \n",
              "16240 -0.550877 -0.778117 -0.621434 -0.751781 -0.637796 -0.517656 -0.381100   \n",
              "16241 -0.550877 -0.778002 -0.621375 -0.751773 -0.637867 -0.517702 -0.381012   \n",
              "\n",
              "           7         8         9     ...      1266      1267      1268  \\\n",
              "0     -0.583679 -0.468653 -0.349884  ... -0.049014 -0.049015 -0.049013   \n",
              "1      0.930156  0.567022  0.561288  ... -0.049014 -0.049015 -0.049013   \n",
              "2     -0.637582 -1.053761 -1.517533  ... -0.049014 -0.049015 -0.049013   \n",
              "3     -0.546362 -0.429896 -0.324998  ... -0.049014 -0.049015 -0.049013   \n",
              "4     -0.577064 -1.001983 -0.913487  ... -0.049014 -0.049015 -0.049013   \n",
              "...         ...       ...       ...  ...       ...       ...       ...   \n",
              "16237  0.052590 -0.373567 -0.288813  ... -0.049014 -0.049015 -0.049013   \n",
              "16238 -0.233523 -0.091693  0.059716  ... -0.049014 -0.049015 -0.049013   \n",
              "16239 -0.437735 -0.438520 -0.311014  ... -0.049014 -0.049015 -0.049013   \n",
              "16240 -0.233787 -0.091810 -0.229556  ... -0.049014 -0.049015 -0.049013   \n",
              "16241 -0.233804 -0.091878 -0.229621  ... -0.049014 -0.049015 -0.049013   \n",
              "\n",
              "            1269     1270      1271      1272      1273      1274      1275  \n",
              "0      11.309499 -0.04901 -0.049013 -0.065791 -0.049013 -0.049061 -0.345475  \n",
              "1      -0.088421 -0.04901 -0.049013 -0.065791 -0.049013 -0.049061 -0.345432  \n",
              "2      -0.088421 -0.04901 -0.049013 -0.065791 -0.049013 -0.049061 -0.345390  \n",
              "3      -0.088421 -0.04901 -0.049013 -0.065791 -0.049013 -0.049061 -0.345262  \n",
              "4      -0.088421 -0.04901 -0.049013 -0.065791 -0.049013 -0.049061 -0.345177  \n",
              "...          ...      ...       ...       ...       ...       ...       ...  \n",
              "16237  -0.088421 -0.04901 -0.049013 -0.065791 -0.049013 -0.049061  1.784976  \n",
              "16238  -0.088421 -0.04901 -0.049013 -0.065791 -0.049013 -0.049061  1.785019  \n",
              "16239  -0.088421 -0.04901 -0.049013 -0.065791 -0.049013 -0.049061  1.785062  \n",
              "16240  -0.088421 -0.04901 -0.049013 -0.065791 -0.049013 -0.049061  1.785104  \n",
              "16241  -0.088421 -0.04901 -0.049013 -0.065791 -0.049013 -0.049061  1.785147  \n",
              "\n",
              "[16242 rows x 1276 columns]"
            ],
            "text/html": [
              "\n",
              "  <div id=\"df-07f27235-a6a3-40d7-b3c6-20c7e323c682\">\n",
              "    <div class=\"colab-df-container\">\n",
              "      <div>\n",
              "<style scoped>\n",
              "    .dataframe tbody tr th:only-of-type {\n",
              "        vertical-align: middle;\n",
              "    }\n",
              "\n",
              "    .dataframe tbody tr th {\n",
              "        vertical-align: top;\n",
              "    }\n",
              "\n",
              "    .dataframe thead th {\n",
              "        text-align: right;\n",
              "    }\n",
              "</style>\n",
              "<table border=\"1\" class=\"dataframe\">\n",
              "  <thead>\n",
              "    <tr style=\"text-align: right;\">\n",
              "      <th></th>\n",
              "      <th>0</th>\n",
              "      <th>1</th>\n",
              "      <th>2</th>\n",
              "      <th>3</th>\n",
              "      <th>4</th>\n",
              "      <th>5</th>\n",
              "      <th>6</th>\n",
              "      <th>7</th>\n",
              "      <th>8</th>\n",
              "      <th>9</th>\n",
              "      <th>...</th>\n",
              "      <th>1266</th>\n",
              "      <th>1267</th>\n",
              "      <th>1268</th>\n",
              "      <th>1269</th>\n",
              "      <th>1270</th>\n",
              "      <th>1271</th>\n",
              "      <th>1272</th>\n",
              "      <th>1273</th>\n",
              "      <th>1274</th>\n",
              "      <th>1275</th>\n",
              "    </tr>\n",
              "  </thead>\n",
              "  <tbody>\n",
              "    <tr>\n",
              "      <th>0</th>\n",
              "      <td>-0.372795</td>\n",
              "      <td>-0.534448</td>\n",
              "      <td>-1.043596</td>\n",
              "      <td>-0.936145</td>\n",
              "      <td>-0.855299</td>\n",
              "      <td>-0.806195</td>\n",
              "      <td>-0.695008</td>\n",
              "      <td>-0.583679</td>\n",
              "      <td>-0.468653</td>\n",
              "      <td>-0.349884</td>\n",
              "      <td>...</td>\n",
              "      <td>-0.049014</td>\n",
              "      <td>-0.049015</td>\n",
              "      <td>-0.049013</td>\n",
              "      <td>11.309499</td>\n",
              "      <td>-0.04901</td>\n",
              "      <td>-0.049013</td>\n",
              "      <td>-0.065791</td>\n",
              "      <td>-0.049013</td>\n",
              "      <td>-0.049061</td>\n",
              "      <td>-0.345475</td>\n",
              "    </tr>\n",
              "    <tr>\n",
              "      <th>1</th>\n",
              "      <td>-0.372795</td>\n",
              "      <td>-0.207476</td>\n",
              "      <td>-0.253760</td>\n",
              "      <td>-0.098378</td>\n",
              "      <td>0.130369</td>\n",
              "      <td>0.491641</td>\n",
              "      <td>0.699988</td>\n",
              "      <td>0.930156</td>\n",
              "      <td>0.567022</td>\n",
              "      <td>0.561288</td>\n",
              "      <td>...</td>\n",
              "      <td>-0.049014</td>\n",
              "      <td>-0.049015</td>\n",
              "      <td>-0.049013</td>\n",
              "      <td>-0.088421</td>\n",
              "      <td>-0.04901</td>\n",
              "      <td>-0.049013</td>\n",
              "      <td>-0.065791</td>\n",
              "      <td>-0.049013</td>\n",
              "      <td>-0.049061</td>\n",
              "      <td>-0.345432</td>\n",
              "    </tr>\n",
              "    <tr>\n",
              "      <th>2</th>\n",
              "      <td>-0.372795</td>\n",
              "      <td>-0.532992</td>\n",
              "      <td>-1.038028</td>\n",
              "      <td>-0.944372</td>\n",
              "      <td>-0.866204</td>\n",
              "      <td>-0.819541</td>\n",
              "      <td>-0.722963</td>\n",
              "      <td>-0.637582</td>\n",
              "      <td>-1.053761</td>\n",
              "      <td>-1.517533</td>\n",
              "      <td>...</td>\n",
              "      <td>-0.049014</td>\n",
              "      <td>-0.049015</td>\n",
              "      <td>-0.049013</td>\n",
              "      <td>-0.088421</td>\n",
              "      <td>-0.04901</td>\n",
              "      <td>-0.049013</td>\n",
              "      <td>-0.065791</td>\n",
              "      <td>-0.049013</td>\n",
              "      <td>-0.049061</td>\n",
              "      <td>-0.345390</td>\n",
              "    </tr>\n",
              "    <tr>\n",
              "      <th>3</th>\n",
              "      <td>-0.372795</td>\n",
              "      <td>-0.527745</td>\n",
              "      <td>-0.339355</td>\n",
              "      <td>-0.102870</td>\n",
              "      <td>0.123643</td>\n",
              "      <td>0.486547</td>\n",
              "      <td>-0.662823</td>\n",
              "      <td>-0.546362</td>\n",
              "      <td>-0.429896</td>\n",
              "      <td>-0.324998</td>\n",
              "      <td>...</td>\n",
              "      <td>-0.049014</td>\n",
              "      <td>-0.049015</td>\n",
              "      <td>-0.049013</td>\n",
              "      <td>-0.088421</td>\n",
              "      <td>-0.04901</td>\n",
              "      <td>-0.049013</td>\n",
              "      <td>-0.065791</td>\n",
              "      <td>-0.049013</td>\n",
              "      <td>-0.049061</td>\n",
              "      <td>-0.345262</td>\n",
              "    </tr>\n",
              "    <tr>\n",
              "      <th>4</th>\n",
              "      <td>-0.372795</td>\n",
              "      <td>-0.526820</td>\n",
              "      <td>-0.339746</td>\n",
              "      <td>-0.102590</td>\n",
              "      <td>0.117769</td>\n",
              "      <td>-0.791526</td>\n",
              "      <td>-0.680220</td>\n",
              "      <td>-0.577064</td>\n",
              "      <td>-1.001983</td>\n",
              "      <td>-0.913487</td>\n",
              "      <td>...</td>\n",
              "      <td>-0.049014</td>\n",
              "      <td>-0.049015</td>\n",
              "      <td>-0.049013</td>\n",
              "      <td>-0.088421</td>\n",
              "      <td>-0.04901</td>\n",
              "      <td>-0.049013</td>\n",
              "      <td>-0.065791</td>\n",
              "      <td>-0.049013</td>\n",
              "      <td>-0.049061</td>\n",
              "      <td>-0.345177</td>\n",
              "    </tr>\n",
              "    <tr>\n",
              "      <th>...</th>\n",
              "      <td>...</td>\n",
              "      <td>...</td>\n",
              "      <td>...</td>\n",
              "      <td>...</td>\n",
              "      <td>...</td>\n",
              "      <td>...</td>\n",
              "      <td>...</td>\n",
              "      <td>...</td>\n",
              "      <td>...</td>\n",
              "      <td>...</td>\n",
              "      <td>...</td>\n",
              "      <td>...</td>\n",
              "      <td>...</td>\n",
              "      <td>...</td>\n",
              "      <td>...</td>\n",
              "      <td>...</td>\n",
              "      <td>...</td>\n",
              "      <td>...</td>\n",
              "      <td>...</td>\n",
              "      <td>...</td>\n",
              "      <td>...</td>\n",
              "    </tr>\n",
              "    <tr>\n",
              "      <th>16237</th>\n",
              "      <td>-0.372795</td>\n",
              "      <td>-0.195461</td>\n",
              "      <td>-0.241207</td>\n",
              "      <td>-0.101389</td>\n",
              "      <td>0.123783</td>\n",
              "      <td>0.486742</td>\n",
              "      <td>0.671568</td>\n",
              "      <td>0.052590</td>\n",
              "      <td>-0.373567</td>\n",
              "      <td>-0.288813</td>\n",
              "      <td>...</td>\n",
              "      <td>-0.049014</td>\n",
              "      <td>-0.049015</td>\n",
              "      <td>-0.049013</td>\n",
              "      <td>-0.088421</td>\n",
              "      <td>-0.04901</td>\n",
              "      <td>-0.049013</td>\n",
              "      <td>-0.065791</td>\n",
              "      <td>-0.049013</td>\n",
              "      <td>-0.049061</td>\n",
              "      <td>1.784976</td>\n",
              "    </tr>\n",
              "    <tr>\n",
              "      <th>16238</th>\n",
              "      <td>-0.372795</td>\n",
              "      <td>-0.198744</td>\n",
              "      <td>-0.246962</td>\n",
              "      <td>-0.121493</td>\n",
              "      <td>-0.444938</td>\n",
              "      <td>-0.507005</td>\n",
              "      <td>-0.369525</td>\n",
              "      <td>-0.233523</td>\n",
              "      <td>-0.091693</td>\n",
              "      <td>0.059716</td>\n",
              "      <td>...</td>\n",
              "      <td>-0.049014</td>\n",
              "      <td>-0.049015</td>\n",
              "      <td>-0.049013</td>\n",
              "      <td>-0.088421</td>\n",
              "      <td>-0.04901</td>\n",
              "      <td>-0.049013</td>\n",
              "      <td>-0.065791</td>\n",
              "      <td>-0.049013</td>\n",
              "      <td>-0.049061</td>\n",
              "      <td>1.785019</td>\n",
              "    </tr>\n",
              "    <tr>\n",
              "      <th>16239</th>\n",
              "      <td>-0.550877</td>\n",
              "      <td>-0.187651</td>\n",
              "      <td>-0.172610</td>\n",
              "      <td>0.095465</td>\n",
              "      <td>-0.368957</td>\n",
              "      <td>-0.165855</td>\n",
              "      <td>-0.563826</td>\n",
              "      <td>-0.437735</td>\n",
              "      <td>-0.438520</td>\n",
              "      <td>-0.311014</td>\n",
              "      <td>...</td>\n",
              "      <td>-0.049014</td>\n",
              "      <td>-0.049015</td>\n",
              "      <td>-0.049013</td>\n",
              "      <td>-0.088421</td>\n",
              "      <td>-0.04901</td>\n",
              "      <td>-0.049013</td>\n",
              "      <td>-0.065791</td>\n",
              "      <td>-0.049013</td>\n",
              "      <td>-0.049061</td>\n",
              "      <td>1.785062</td>\n",
              "    </tr>\n",
              "    <tr>\n",
              "      <th>16240</th>\n",
              "      <td>-0.550877</td>\n",
              "      <td>-0.778117</td>\n",
              "      <td>-0.621434</td>\n",
              "      <td>-0.751781</td>\n",
              "      <td>-0.637796</td>\n",
              "      <td>-0.517656</td>\n",
              "      <td>-0.381100</td>\n",
              "      <td>-0.233787</td>\n",
              "      <td>-0.091810</td>\n",
              "      <td>-0.229556</td>\n",
              "      <td>...</td>\n",
              "      <td>-0.049014</td>\n",
              "      <td>-0.049015</td>\n",
              "      <td>-0.049013</td>\n",
              "      <td>-0.088421</td>\n",
              "      <td>-0.04901</td>\n",
              "      <td>-0.049013</td>\n",
              "      <td>-0.065791</td>\n",
              "      <td>-0.049013</td>\n",
              "      <td>-0.049061</td>\n",
              "      <td>1.785104</td>\n",
              "    </tr>\n",
              "    <tr>\n",
              "      <th>16241</th>\n",
              "      <td>-0.550877</td>\n",
              "      <td>-0.778002</td>\n",
              "      <td>-0.621375</td>\n",
              "      <td>-0.751773</td>\n",
              "      <td>-0.637867</td>\n",
              "      <td>-0.517702</td>\n",
              "      <td>-0.381012</td>\n",
              "      <td>-0.233804</td>\n",
              "      <td>-0.091878</td>\n",
              "      <td>-0.229621</td>\n",
              "      <td>...</td>\n",
              "      <td>-0.049014</td>\n",
              "      <td>-0.049015</td>\n",
              "      <td>-0.049013</td>\n",
              "      <td>-0.088421</td>\n",
              "      <td>-0.04901</td>\n",
              "      <td>-0.049013</td>\n",
              "      <td>-0.065791</td>\n",
              "      <td>-0.049013</td>\n",
              "      <td>-0.049061</td>\n",
              "      <td>1.785147</td>\n",
              "    </tr>\n",
              "  </tbody>\n",
              "</table>\n",
              "<p>16242 rows × 1276 columns</p>\n",
              "</div>\n",
              "      <button class=\"colab-df-convert\" onclick=\"convertToInteractive('df-07f27235-a6a3-40d7-b3c6-20c7e323c682')\"\n",
              "              title=\"Convert this dataframe to an interactive table.\"\n",
              "              style=\"display:none;\">\n",
              "        \n",
              "  <svg xmlns=\"http://www.w3.org/2000/svg\" height=\"24px\"viewBox=\"0 0 24 24\"\n",
              "       width=\"24px\">\n",
              "    <path d=\"M0 0h24v24H0V0z\" fill=\"none\"/>\n",
              "    <path d=\"M18.56 5.44l.94 2.06.94-2.06 2.06-.94-2.06-.94-.94-2.06-.94 2.06-2.06.94zm-11 1L8.5 8.5l.94-2.06 2.06-.94-2.06-.94L8.5 2.5l-.94 2.06-2.06.94zm10 10l.94 2.06.94-2.06 2.06-.94-2.06-.94-.94-2.06-.94 2.06-2.06.94z\"/><path d=\"M17.41 7.96l-1.37-1.37c-.4-.4-.92-.59-1.43-.59-.52 0-1.04.2-1.43.59L10.3 9.45l-7.72 7.72c-.78.78-.78 2.05 0 2.83L4 21.41c.39.39.9.59 1.41.59.51 0 1.02-.2 1.41-.59l7.78-7.78 2.81-2.81c.8-.78.8-2.07 0-2.86zM5.41 20L4 18.59l7.72-7.72 1.47 1.35L5.41 20z\"/>\n",
              "  </svg>\n",
              "      </button>\n",
              "      \n",
              "  <style>\n",
              "    .colab-df-container {\n",
              "      display:flex;\n",
              "      flex-wrap:wrap;\n",
              "      gap: 12px;\n",
              "    }\n",
              "\n",
              "    .colab-df-convert {\n",
              "      background-color: #E8F0FE;\n",
              "      border: none;\n",
              "      border-radius: 50%;\n",
              "      cursor: pointer;\n",
              "      display: none;\n",
              "      fill: #1967D2;\n",
              "      height: 32px;\n",
              "      padding: 0 0 0 0;\n",
              "      width: 32px;\n",
              "    }\n",
              "\n",
              "    .colab-df-convert:hover {\n",
              "      background-color: #E2EBFA;\n",
              "      box-shadow: 0px 1px 2px rgba(60, 64, 67, 0.3), 0px 1px 3px 1px rgba(60, 64, 67, 0.15);\n",
              "      fill: #174EA6;\n",
              "    }\n",
              "\n",
              "    [theme=dark] .colab-df-convert {\n",
              "      background-color: #3B4455;\n",
              "      fill: #D2E3FC;\n",
              "    }\n",
              "\n",
              "    [theme=dark] .colab-df-convert:hover {\n",
              "      background-color: #434B5C;\n",
              "      box-shadow: 0px 1px 3px 1px rgba(0, 0, 0, 0.15);\n",
              "      filter: drop-shadow(0px 1px 2px rgba(0, 0, 0, 0.3));\n",
              "      fill: #FFFFFF;\n",
              "    }\n",
              "  </style>\n",
              "\n",
              "      <script>\n",
              "        const buttonEl =\n",
              "          document.querySelector('#df-07f27235-a6a3-40d7-b3c6-20c7e323c682 button.colab-df-convert');\n",
              "        buttonEl.style.display =\n",
              "          google.colab.kernel.accessAllowed ? 'block' : 'none';\n",
              "\n",
              "        async function convertToInteractive(key) {\n",
              "          const element = document.querySelector('#df-07f27235-a6a3-40d7-b3c6-20c7e323c682');\n",
              "          const dataTable =\n",
              "            await google.colab.kernel.invokeFunction('convertToInteractive',\n",
              "                                                     [key], {});\n",
              "          if (!dataTable) return;\n",
              "\n",
              "          const docLinkHtml = 'Like what you see? Visit the ' +\n",
              "            '<a target=\"_blank\" href=https://colab.research.google.com/notebooks/data_table.ipynb>data table notebook</a>'\n",
              "            + ' to learn more about interactive tables.';\n",
              "          element.innerHTML = '';\n",
              "          dataTable['output_type'] = 'display_data';\n",
              "          await google.colab.output.renderOutput(dataTable, element);\n",
              "          const docLink = document.createElement('div');\n",
              "          docLink.innerHTML = docLinkHtml;\n",
              "          element.appendChild(docLink);\n",
              "        }\n",
              "      </script>\n",
              "    </div>\n",
              "  </div>\n",
              "  "
            ]
          },
          "metadata": {},
          "execution_count": 8
        }
      ]
    },
    {
      "cell_type": "markdown",
      "metadata": {
        "id": "hV-e2_wodjg7"
      },
      "source": [
        "Review values were centralize on the target labels for predictions stored on the vector called 'y'"
      ]
    },
    {
      "cell_type": "code",
      "metadata": {
        "id": "WJkvh1Tq8bYb",
        "colab": {
          "base_uri": "https://localhost:8080/"
        },
        "outputId": "e8af1ceb-f249-4f33-8686-1535990f8b40"
      },
      "source": [
        "y -= np.mean(y)\n",
        "y"
      ],
      "execution_count": null,
      "outputs": [
        {
          "output_type": "execute_result",
          "data": {
            "text/plain": [
              "0       -7.834793\n",
              "1        1.017950\n",
              "2        1.802350\n",
              "3       -2.597469\n",
              "4        2.641829\n",
              "           ...   \n",
              "16268    2.302846\n",
              "16269   -1.926299\n",
              "16270   -5.622495\n",
              "16271   -2.156118\n",
              "16272   -2.157726\n",
              "Name: Eat, Length: 16242, dtype: float64"
            ]
          },
          "metadata": {},
          "execution_count": 9
        }
      ]
    },
    {
      "cell_type": "markdown",
      "metadata": {
        "id": "xYKOg4PSccNx"
      },
      "source": [
        "# Data and model assumptions "
      ]
    },
    {
      "cell_type": "markdown",
      "source": [
        "We assume that we will reach the minimum of the cost function within a fixed number of steps, with the number of iterations being 1000. \n",
        "\n",
        "* Each molecule is composed of a subset of the elements from the set C,H, N, O, P and S (CHNOPS) and has at least 2, at most 50 atoms.\n",
        "* The maximum distance between two atoms in a molecule does not exceed 25 a0 (a0 = 0.529 ˚A, i.e. Bohr radius), for convergence of plane-wave calculations, where each molecule\n",
        "is placed in a cubic box of side length 30 a0.\n",
        "*  There is an even number of electrons\n",
        "in the molecule.\n",
        "<br>\n",
        "\n",
        "Applying these criteria to the first 75,000 entries in the PubChem database\n",
        "leads to a subset of 16,242 molecules, whose structure data files (SDF) are converted into\n",
        "input files for electronic structure calculations"
      ],
      "metadata": {
        "id": "3TeT1K_9BROV"
      }
    },
    {
      "cell_type": "markdown",
      "metadata": {
        "id": "6Ud2-pKG8ez_"
      },
      "source": [
        "#1. Illustrating the effect of the tuning parameter on the inferred ridge regression coefficients"
      ]
    },
    {
      "cell_type": "markdown",
      "metadata": {
        "id": "eRFLVjS2VOzT"
      },
      "source": [
        "Creare a plot of 1275 lines (one for each\n",
        "of the 𝑝 = 1275 features), with the 𝑦-axis as 𝛽̂\n",
        "𝑗\n",
        ", 𝑗 = 1,2, …,1275, and the 𝑥-axis the corresponding\n",
        "log-scaled tuning parameter value log10(𝜆) that generated the particular 𝛽̂\n",
        "𝑗\n",
        "\n",
        "<br>\n",
        "Note: Without the log scaling of the tuning parameter, the plot will look distorted. \n"
      ]
    },
    {
      "cell_type": "code",
      "metadata": {
        "id": "HGbwoLJl8fFx"
      },
      "source": [
        "lambdas = [10e-2, 10e-1, 10e0, 10e1, 10e2,10e3,10e4]\n",
        "beta_list = []\n",
        "\n",
        "for lamb in lambdas:\n",
        "  ridge = Ridge(alpha = lamb, max_iter = 1000)\n",
        "  ridge.fit(X,y)\n",
        "  beta_list.append(ridge.coef_)"
      ],
      "execution_count": null,
      "outputs": []
    },
    {
      "cell_type": "code",
      "metadata": {
        "id": "vvLwGJ1i8j6u",
        "colab": {
          "base_uri": "https://localhost:8080/",
          "height": 573
        },
        "outputId": "6bd33bc0-6d61-4506-8c9b-12312bf1465a"
      },
      "source": [
        "betas = pd.DataFrame(beta_list)\n",
        "betas.index = lambdas\n",
        "\n",
        "plt.figure(figsize=(12,9))\n",
        "plt.plot(betas)\n",
        "plt.xscale('log')\n",
        "plt.xlabel('Lambda')\n",
        "plt.ylabel('Feature Value')\n",
        "plt.legend(loc = 'upper right', fontsize = 'x-small')\n",
        "plt.show()"
      ],
      "execution_count": null,
      "outputs": [
        {
          "output_type": "stream",
          "name": "stderr",
          "text": [
            "No handles with labels found to put in legend.\n"
          ]
        },
        {
          "output_type": "display_data",
          "data": {
            "text/plain": [
              "<Figure size 864x648 with 1 Axes>"
            ],
            "image/png": "[encoded data removed]"
          },
          "metadata": {
            "needs_background": "light"
          }
        }
      ]
    },
    {
      "cell_type": "markdown",
      "metadata": {
        "id": "yzmT3Px88sUy"
      },
      "source": [
        "# 2. Displaying the effect of the tuning parameter on the cross validation error(5)"
      ]
    },
    {
      "cell_type": "markdown",
      "metadata": {
        "id": "VcoY-g7ueXdJ"
      },
      "source": [
        "The 𝑥- axis the corresponding log-scaled tuning parameter value log10(𝜆) that generated the particular CV(5) error. Without the log scaling of the tuning parameter, the plot will look distorted."
      ]
    },
    {
      "cell_type": "code",
      "metadata": {
        "id": "ZFA-ZEkO8qJL",
        "colab": {
          "base_uri": "https://localhost:8080/"
        },
        "outputId": "7bd89be4-a447-4b11-e5f6-6181dcb4ca65"
      },
      "source": [
        "ridge = Ridge(max_iter = 1000)\n",
        "\n",
        "parameters ={'alpha': [1e-2,1e-1,1,10,1e2,1e3,1e4]}\n",
        "\n",
        "mse = make_scorer(mean_squared_error, greater_is_better = False)\n",
        "\n",
        "ridge_regressor = GridSearchCV(ridge,parameters, scoring = mse, cv = 5, refit = False)\n",
        "\n",
        "ridge_regressor.fit(X,y)"
      ],
      "execution_count": null,
      "outputs": [
        {
          "output_type": "execute_result",
          "data": {
            "text/plain": [
              "GridSearchCV(cv=5, estimator=Ridge(max_iter=1000),\n",
              "             param_grid={'alpha': [0.01, 0.1, 1, 10, 100.0, 1000.0, 10000.0]},\n",
              "             refit=False,\n",
              "             scoring=make_scorer(mean_squared_error, greater_is_better=False))"
            ]
          },
          "metadata": {},
          "execution_count": 12
        }
      ]
    },
    {
      "cell_type": "code",
      "metadata": {
        "id": "lSUfKufU8wZU",
        "colab": {
          "base_uri": "https://localhost:8080/"
        },
        "outputId": "58ac1168-d6e9-4b09-f85d-4f82d6506696"
      },
      "source": [
        "plt.figure(figsize=(12,9))\n",
        "plt.plot(lambdas, np.absolute(ridge_regressor.cv_results_['mean_test_score']))\n",
        "plt.xscale('log')\n",
        "plt.xlabel('Lambda')\n",
        "plt.ylabel('Cross-validation error')\n",
        "plt.show()"
      ],
      "execution_count": null,
      "outputs": [
        {
          "output_type": "display_data",
          "data": {
            "text/plain": [
              "<Figure size 864x648 with 1 Axes>"
            ],
            "image/png": "[encoded data removed]"
          },
          "metadata": {
            "needs_background": "light"
          }
        }
      ]
    },
    {
      "cell_type": "markdown",
      "metadata": {
        "id": "6l8Rj9Wj82P4"
      },
      "source": [
        "#3. Showing the value of λ that generated the smallest CV(5) error."
      ]
    },
    {
      "cell_type": "markdown",
      "metadata": {
        "id": "eTz96tm0gmss"
      },
      "source": [
        "Then, we indicate the value of 𝜆 that generated the smallest CV(5) error"
      ]
    },
    {
      "cell_type": "code",
      "metadata": {
        "id": "XS-_kKJX80ng",
        "colab": {
          "base_uri": "https://localhost:8080/"
        },
        "outputId": "1d630330-831a-45b6-d62e-7dddd7b535bf"
      },
      "source": [
        "print(ridge_regressor.best_params_)\n",
        "print(ridge_regressor.best_score_) "
      ],
      "execution_count": null,
      "outputs": [
        {
          "output_type": "stream",
          "name": "stdout",
          "text": [
            "{'alpha': 1000.0}\n",
            "-0.7134341359581594\n"
          ]
        }
      ]
    },
    {
      "cell_type": "markdown",
      "metadata": {
        "id": "EK7xDBzThi47"
      },
      "source": [
        "**Final Analysis**\n",
        "\n"
      ]
    },
    {
      "cell_type": "markdown",
      "source": [
        "**Insight 1**\n",
        "<br>\n",
        "The alpha value of 1000 suggests that this is the tuning parameter lambda that will generate the model with the lowest cross validation error. From the graph above, 10,000 seems to produce the lowest error. The difference may be because, usually, we want the simplest possible model with the lowest possible cross-validation error. "
      ],
      "metadata": {
        "id": "KoOhpqr4_9li"
      }
    },
    {
      "cell_type": "markdown",
      "source": [
        "**Insight 2**\n",
        "<br>\n",
        "The second value for 'ridge_regressor.best_score_' is the mean cross-validated score of the best_estimator. The mean can be positive or negative. This served as an additional metric to describe the best predictor. Maybe displaying the mean square error may be more informative. It could be a good approach to compare these results with those to be obtained without using statistical or ML libraries and provide a discussion as to why the results are different if applicable."
      ],
      "metadata": {
        "id": "fQzb8QhVAA-N"
      }
    },
    {
      "cell_type": "markdown",
      "metadata": {
        "id": "wBVzEL7r88Pz"
      },
      "source": [
        "# 4. Retraining the model on the entire dataset of N = 16242 observations and providing the estimates of the p = 1275 best-fit model parameters using the optimal value of lambda = 1000."
      ]
    },
    {
      "cell_type": "markdown",
      "metadata": {
        "id": "wjVr_CUzgp5U"
      },
      "source": [
        " Given the optimal 𝜆, let's retrain the model on the entire dataset of 𝑁 = 16242\n",
        "observations and provide the estimates of the 𝑝 = 1275 best-fit model parameters."
      ]
    },
    {
      "cell_type": "markdown",
      "source": [],
      "metadata": {
        "id": "I8fS2PKbAU17"
      }
    },
    {
      "cell_type": "code",
      "metadata": {
        "id": "FKj8vA7O884l",
        "colab": {
          "base_uri": "https://localhost:8080/"
        },
        "outputId": "056c1063-1569-4a8b-c97b-7bffee147524"
      },
      "source": [
        "ridge = Ridge(alpha=1000)\n",
        "print(ridge.fit(X,y))\n",
        "print(\"Ridge parameters:\",ridge.get_params(deep=True))\n",
        "print(\"Ridge score using the whole dataset:\",ridge.score(X, y, sample_weight=None))"
      ],
      "execution_count": null,
      "outputs": [
        {
          "output_type": "stream",
          "name": "stdout",
          "text": [
            "Ridge(alpha=1000)\n",
            "Ridge parameters: {'alpha': 1000, 'copy_X': True, 'fit_intercept': True, 'max_iter': None, 'normalize': 'deprecated', 'positive': False, 'random_state': None, 'solver': 'auto', 'tol': 0.001}\n",
            "Ridge score using the whole dataset: 0.9559802685641454\n"
          ]
        }
      ]
    },
    {
      "cell_type": "markdown",
      "metadata": {
        "id": "dWnYtrRu-KFc"
      },
      "source": [
        "The **score suggests** the trained model can make accurate predictions approximately 95.6% of the time."
      ]
    }
  ]
}